{
 "cells": [
  {
   "cell_type": "code",
   "execution_count": 4,
   "metadata": {},
   "outputs": [],
   "source": [
    "import json\n",
    "import pandas as pd\n"
   ]
  },
  {
   "cell_type": "code",
   "execution_count": null,
   "metadata": {},
   "outputs": [
    {
     "name": "stdout",
     "output_type": "stream",
     "text": [
      "Data type: <class 'list'>\n",
      "First item: {'source': 'V roce 1980, nejstarším soudcem Nejvyššího soudu Spojených států byl soudce William O. Douglas. Narodil se 16. října 1898 a sloužil u Nejvyššího soudu od roku 1939 až do jeho odchodu do důchodu v roce 1975. Proto, v roce 1980, soudce Douglas byl stále naživu a byl by nejstarší sloužící spravedlnosti na soudu v té době.', 'claims': [{'id': 0, 'claim': 'William O. Douglas was the oldest Supreme Court justice in 1980.', 'checkworthy': True, 'checkworthy_reason': \"Yes (This statement makes a verifiable claim about Douglas's status as the oldest justice on the Supreme Court in a specific year, which can be checked against historical records.)\", 'origin_text': 'V roce 1980, nejstarším soudcem Nejvyššího soudu Spojených států byl soudce William O. Douglas.', 'start': 0, 'end': 95}, {'id': 1, 'claim': 'William O. Douglas was born on October 16, 1898.', 'checkworthy': True, 'checkworthy_reason': 'Yes (This statement provides a specific birth date which can be verified through historical records and biographical sources.)', 'origin_text': 'Narodil se 16. října 1898', 'start': 96, 'end': 121}, {'id': 2, 'claim': 'William O. Douglas served on the Supreme Court from 1939.', 'checkworthy': True, 'checkworthy_reason': 'Yes (This contains a verifiable fact about when Douglas began his service on the Supreme Court, which can be confirmed through historical records.)', 'origin_text': 'a sloužil u Nejvyššího soudu od roku 1939', 'start': 122, 'end': 163}, {'id': 3, 'claim': 'William O. Douglas retired from the Supreme Court in 1975.', 'checkworthy': True, 'checkworthy_reason': \"Yes (This makes a specific claim about Douglas's retirement year from the Supreme Court, which can be verified through official records.)\", 'origin_text': 'až do jeho odchodu do důchodu v roce 1975.', 'start': 164, 'end': 206}, {'id': 4, 'claim': 'William O. Douglas was still alive in 1980.', 'checkworthy': True, 'checkworthy_reason': \"Yes (This statement makes a claim about Douglas's life status in a specific year, which can be verified through biographical records.)\", 'origin_text': 'Proto, v roce 1980, soudce Douglas byl stále naživu', 'start': 207, 'end': 258}, {'id': 5, 'claim': 'William O. Douglas would have been the oldest serving justice in 1980.', 'checkworthy': True, 'checkworthy_reason': 'Yes (This contains a conditional factual claim that can be verified by checking if Douglas would indeed have been the oldest justice had he still been serving in 1980, based on the ages of other justices at that time.)', 'origin_text': 'a byl by nejstarší sloužící spravedlnosti na soudu v té době.', 'start': 259, 'end': 320}]}\n"
     ]
    }
   ],
   "source": [
    "#load data for evaluation (loki generated atomic claims)\n",
    "with open('atomic_claims_FCGPT.json', 'r') as file:\n",
    "    data = json.load(file)\n",
    "\n",
    "print(f\"Data type: {type(data)}\")\n",
    "print(f\"First item: {data[0]}\")"
   ]
  },
  {
   "cell_type": "code",
   "execution_count": 17,
   "metadata": {},
   "outputs": [
    {
     "name": "stdout",
     "output_type": "stream",
     "text": [
      "                                              source   id  \\\n",
      "0  V roce 1980, nejstarším soudcem Nejvyššího sou...  0.0   \n",
      "1  V roce 1980, nejstarším soudcem Nejvyššího sou...  1.0   \n",
      "2  V roce 1980, nejstarším soudcem Nejvyššího sou...  2.0   \n",
      "3  V roce 1980, nejstarším soudcem Nejvyššího sou...  3.0   \n",
      "4  V roce 1980, nejstarším soudcem Nejvyššího sou...  4.0   \n",
      "\n",
      "                                               claim checkworthy  \\\n",
      "0  William O. Douglas was the oldest Supreme Cour...        True   \n",
      "1   William O. Douglas was born on October 16, 1898.        True   \n",
      "2  William O. Douglas served on the Supreme Court...        True   \n",
      "3  William O. Douglas retired from the Supreme Co...        True   \n",
      "4        William O. Douglas was still alive in 1980.        True   \n",
      "\n",
      "                                  checkworthy_reason  \\\n",
      "0  Yes (This statement makes a verifiable claim a...   \n",
      "1  Yes (This statement provides a specific birth ...   \n",
      "2  Yes (This contains a verifiable fact about whe...   \n",
      "3  Yes (This makes a specific claim about Douglas...   \n",
      "4  Yes (This statement makes a claim about Dougla...   \n",
      "\n",
      "                                         origin_text  start    end  \n",
      "0  V roce 1980, nejstarším soudcem Nejvyššího sou...    0.0   95.0  \n",
      "1                          Narodil se 16. října 1898   96.0  121.0  \n",
      "2          a sloužil u Nejvyššího soudu od roku 1939  122.0  163.0  \n",
      "3         až do jeho odchodu do důchodu v roce 1975.  164.0  206.0  \n",
      "4  Proto, v roce 1980, soudce Douglas byl stále n...  207.0  258.0  \n"
     ]
    }
   ],
   "source": [
    "#each claim on as individual data\n",
    "df = pd.DataFrame(data)\n",
    "df = df.explode('claims')\n",
    "df = df.reset_index(drop=True)\n",
    "\n",
    "#separate claim attributes\n",
    "claims_expanded = pd.json_normalize(df['claims'])\n",
    "df = pd.concat([df, claims_expanded], axis=1)\n",
    "df = df.drop(columns=['claims'])\n",
    "\n",
    "print(df.head())\n",
    "\n",
    "#TODO \n",
    "# generation language ratio\n",
    "# average claims per source \n",
    "# % of checkworthy"
   ]
  }
 ],
 "metadata": {
  "kernelspec": {
   "display_name": "Python 3",
   "language": "python",
   "name": "python3"
  },
  "language_info": {
   "codemirror_mode": {
    "name": "ipython",
    "version": 3
   },
   "file_extension": ".py",
   "mimetype": "text/x-python",
   "name": "python",
   "nbconvert_exporter": "python",
   "pygments_lexer": "ipython3",
   "version": "3.11.9"
  }
 },
 "nbformat": 4,
 "nbformat_minor": 2
}
