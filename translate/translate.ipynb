{
 "cells": [
  {
   "cell_type": "code",
   "execution_count": 2,
   "metadata": {},
   "outputs": [],
   "source": [
    "import requests\n",
    "import json\n",
    "import sentencepiece as SentencePiece\n",
    "from transformers import MarianMTModel, MarianTokenizer"
   ]
  },
  {
   "cell_type": "markdown",
   "metadata": {},
   "source": [
    "# Download"
   ]
  },
  {
   "cell_type": "code",
   "execution_count": 3,
   "metadata": {},
   "outputs": [
    {
     "name": "stdout",
     "output_type": "stream",
     "text": [
      "File downloaded and saved successfully.\n"
     ]
    }
   ],
   "source": [
    "url = 'https://raw.githubusercontent.com/yuxiaw/Factcheck-GPT/refs/heads/main/factcheck-GPT-benchmark.jsonl'\n",
    "response = requests.get(url)\n",
    "\n",
    "if response.status_code == 200:\n",
    "    with open('factcheck-GPT-benchmark.jsonl', 'w') as file:\n",
    "        file.write(response.text)\n",
    "        print('File downloaded and saved successfully.')\n",
    "else:\n",
    "    print('Failed to download the file.')"
   ]
  },
  {
   "cell_type": "markdown",
   "metadata": {},
   "source": [
    "# load from file"
   ]
  },
  {
   "cell_type": "code",
   "execution_count": 4,
   "metadata": {},
   "outputs": [
    {
     "data": {
      "text/plain": [
       "'In 1980, the oldest justice on the United States Supreme Court was Justice William O. Douglas. He was born on October 16, 1898, and served on the Supreme Court from 1939 until his retirement in 1975. Therefore, in 1980, Justice Douglas was still alive and would have been the oldest serving justice on the Court at that time.'"
      ]
     },
     "execution_count": 4,
     "metadata": {},
     "output_type": "execute_result"
    }
   ],
   "source": [
    "data = []\n",
    "with open('factcheck-GPT-benchmark.jsonl', 'r') as file:\n",
    "    for line in file:\n",
    "        data.append(json.loads(line))\n",
    "\n",
    "data[0]['response']"
   ]
  },
  {
   "cell_type": "markdown",
   "metadata": {},
   "source": [
    "# Translate"
   ]
  },
  {
   "cell_type": "code",
   "execution_count": 5,
   "metadata": {},
   "outputs": [],
   "source": [
    "# Load the model and tokenizer for English to Czech\n",
    "model_name = \"Helsinki-NLP/opus-mt-en-cs\"\n",
    "tokenizer = MarianTokenizer.from_pretrained(model_name)\n",
    "model = MarianMTModel.from_pretrained(model_name)"
   ]
  },
  {
   "cell_type": "code",
   "execution_count": 9,
   "metadata": {},
   "outputs": [
    {
     "data": {
      "text/plain": [
       "{'prompt': 'Who was the oldest justice on the US supreme court in 1980?',\n",
       " 'response': 'V roce 1980, nejstarším soudcem Nejvyššího soudu Spojených států byl soudce William O. Douglas. Narodil se 16. října 1898 a sloužil u Nejvyššího soudu od roku 1939 až do jeho odchodu do důchodu v roce 1975. Proto, v roce 1980, soudce Douglas byl stále naživu a byl by nejstarší sloužící spravedlnosti na soudu v té době.',\n",
       " 'claims': [['V roce 1980 byl nejstarším soudcem Nejvyššího soudu Spojených států soudce William O. Douglas.'],\n",
       "  ['Soudce William O. Douglas se narodil 16. října 1898.',\n",
       "   'Soudce William O. Douglas sloužil u Nejvyššího soudu Spojených států od roku 1939 do jeho odchodu do důchodu v roce 1975.'],\n",
       "  ['V roce 1980 byl soudce William O. Douglas stále naživu.',\n",
       "   'Soudce William O. Douglas byl nejstarším soudcem Nejvyššího soudu Spojených států v roce 1980.']],\n",
       " 'claims_factuality_label': [[False], [True, True], [False, False]]}"
      ]
     },
     "execution_count": 9,
     "metadata": {},
     "output_type": "execute_result"
    }
   ],
   "source": [
    "translated_data = []\n",
    "\n",
    "for item in data:\n",
    "    new = {\n",
    "        \"prompt\": item[\"prompt\"],\n",
    "        \"response\": \"\",\n",
    "        \"claims\": [],\n",
    "        \"claims_factuality_label\": [],\n",
    "    }\n",
    "    inputs = tokenizer(item['response'], return_tensors=\"pt\", padding=True, truncation=True)\n",
    "    translated = model.generate(**inputs)\n",
    "    translated_text = tokenizer.decode(translated[0], skip_special_tokens=True)\n",
    "    new[\"response\"] = translated_text\n",
    "\n",
    "    for i in range(1, 10):\n",
    "        translated_claims = []\n",
    "        try:\n",
    "            for claim in item['sentences'][f'sentence{i}']['claims']:\n",
    "                inputs = tokenizer(claim, return_tensors=\"pt\", padding=True, truncation=True)\n",
    "                translated = model.generate(**inputs)\n",
    "                translated_text = tokenizer.decode(translated[0], skip_special_tokens=True)\n",
    "                translated_claims.append(translated_text)\n",
    "            new['claims'].append(translated_claims)\n",
    "            new['claims_factuality_label'].append(item['sentences'][f'sentence{i}']['claims_factuality_label'])\n",
    "        except KeyError:\n",
    "            break # no more sentences\n",
    "    translated_data.append(new)\n",
    "\n",
    "translated_data[0]"
   ]
  },
  {
   "cell_type": "code",
   "execution_count": 10,
   "metadata": {},
   "outputs": [],
   "source": [
    "with open('translated.json', 'w') as file:\n",
    "    json.dump(translated_data, file, indent=4)"
   ]
  },
  {
   "cell_type": "markdown",
   "metadata": {},
   "source": [
    "# Validate"
   ]
  },
  {
   "cell_type": "code",
   "execution_count": 36,
   "metadata": {},
   "outputs": [
    {
     "data": {
      "text/plain": [
       "{'prompt': 'Who was the oldest justice on the US supreme court in 1980?',\n",
       " 'response': 'V roce 1980, nejstarším soudcem Nejvyššího soudu Spojených států byl soudce William O. Douglas. Narodil se 16. října 1898 a sloužil u Nejvyššího soudu od roku 1939 až do jeho odchodu do důchodu v roce 1975. Proto, v roce 1980, soudce Douglas byl stále naživu a byl by nejstarší sloužící spravedlnosti na soudu v té době.',\n",
       " 'claims': ['V roce 1980 byl nejstarším soudcem Nejvyššího soudu Spojených států soudce William O. Douglas.'],\n",
       " 'claims_factuality_label': [False]}"
      ]
     },
     "execution_count": 36,
     "metadata": {},
     "output_type": "execute_result"
    }
   ],
   "source": [
    "with open('translated.json', 'r') as file:\n",
    "    translated_data = json.load(file)\n",
    "\n",
    "translated_data[0]"
   ]
  }
 ],
 "metadata": {
  "kernelspec": {
   "display_name": "Python 3",
   "language": "python",
   "name": "python3"
  },
  "language_info": {
   "codemirror_mode": {
    "name": "ipython",
    "version": 3
   },
   "file_extension": ".py",
   "mimetype": "text/x-python",
   "name": "python",
   "nbconvert_exporter": "python",
   "pygments_lexer": "ipython3",
   "version": "3.13.1"
  }
 },
 "nbformat": 4,
 "nbformat_minor": 2
}
