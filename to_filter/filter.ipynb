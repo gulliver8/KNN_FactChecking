{
 "cells": [
  {
   "cell_type": "code",
   "execution_count": 29,
   "metadata": {},
   "outputs": [],
   "source": [
    "import requests\n",
    "import json\n",
    "import sentencepiece as SentencePiece\n",
    "from transformers import MarianMTModel, MarianTokenizer\n",
    "import re\n",
    "import os"
   ]
  },
  {
   "cell_type": "code",
   "execution_count": 30,
   "metadata": {},
   "outputs": [
    {
     "data": {
      "text/plain": [
       "{'source': 'V roce 1980, nejstarším soudcem Nejvyššího soudu Spojených států byl soudce William O. Douglas. Narodil se 16. října 1898 a sloužil u Nejvyššího soudu od roku 1939 až do jeho odchodu do důchodu v roce 1975. Proto, v roce 1980, soudce Douglas byl stále naživu a byl by nejstarší sloužící spravedlnosti na soudu v té době.',\n",
       " 'claims': [{'id': 0,\n",
       "   'claim': 'In 1980, the oldest sitting Supreme Court Justice of the United States was William O. Douglas.',\n",
       "   'checkworthy': True,\n",
       "   'checkworthy_reason': 'Yes (This statement provides a specific claim about historical records regarding the age and position of William O. Douglas that can be verified through court records or reliable historical sources.)',\n",
       "   'origin_text': 'V roce 1980, nejstarším soudcem Nejvyššího soudu Spojených států byl soudce William O. Douglas.',\n",
       "   'start': 0,\n",
       "   'end': 95},\n",
       "  {'id': 1,\n",
       "   'claim': 'William O. Douglas was born on October 16, 1898.',\n",
       "   'checkworthy': True,\n",
       "   'checkworthy_reason': 'Yes (The birth date is a factual piece of information that can be verified by checking biographical data from credible sources such as historical archives or official documents.)',\n",
       "   'origin_text': 'Narodil se 16. října 1898',\n",
       "   'start': 96,\n",
       "   'end': 121},\n",
       "  {'id': 2,\n",
       "   'claim': 'He served on the Supreme Court from 1939 to 1975.',\n",
       "   'checkworthy': True,\n",
       "   'checkworthy_reason': \"Yes (This statement provides specific years for William O. Douglas's service on the Supreme Court, which can be confirmed through official court records or reputable legal history references.)\",\n",
       "   'origin_text': 'a sloužil u Nejvyššího soudu od roku 1939 až do jeho odchodu do důchodu v roce 1975.',\n",
       "   'start': 122,\n",
       "   'end': 206},\n",
       "  {'id': 3,\n",
       "   'claim': 'By 1980, he had retired but was still alive.',\n",
       "   'checkworthy': True,\n",
       "   'checkworthy_reason': \"Yes (The factuality of his retirement and status as being alive by a certain year is verifiable with historical data on justices' tenures and biographical information.)\",\n",
       "   'origin_text': 'Proto, v roce 1980, soudce Douglas byl stále naživu',\n",
       "   'start': 207,\n",
       "   'end': 258},\n",
       "  {'id': 4,\n",
       "   'claim': 'In 1980, Justice Douglas could have been the oldest living justice.',\n",
       "   'checkworthy': True,\n",
       "   'checkworthy_reason': \"No (This statement presents a hypothetical scenario ('could have') rather than a definite factual claim that can be verified.)\",\n",
       "   'origin_text': 'a byl by nejstarší sloužící spravedlnosti na soudu v té době.',\n",
       "   'start': 259,\n",
       "   'end': 320}]}"
      ]
     },
     "execution_count": 30,
     "metadata": {},
     "output_type": "execute_result"
    }
   ],
   "source": [
    "filename = 'results_FCGPT_phi4.json'\n",
    "\n",
    "data = []\n",
    "with open(filename) as f:\n",
    "    data = json.load(f)\n",
    "data[0]"
   ]
  },
  {
   "cell_type": "code",
   "execution_count": 31,
   "metadata": {},
   "outputs": [],
   "source": [
    "# Load the model and tokenizer for English to Czech\n",
    "model_name = \"Helsinki-NLP/opus-mt-en-cs\"\n",
    "tokenizer = MarianTokenizer.from_pretrained(model_name)\n",
    "model = MarianMTModel.from_pretrained(model_name)"
   ]
  },
  {
   "cell_type": "code",
   "execution_count": 32,
   "metadata": {},
   "outputs": [
    {
     "name": "stdout",
     "output_type": "stream",
     "text": [
      "{'source': 'Chcete-li najít nejlepší interiérové dekoratéry a nejlepší cenu, můžete sledovat tyto kroky: 1. Výzkum: Výzkum on-line najít interiérové dekoratéry ve vaší oblasti. Podívejte se na jejich portfolia, hodnocení zákazníků a hodnocení. 2. Shortlist: Shortlist několik dekoratéři založené na jejich práci, zkušenosti, a recenze. 3. Rozpočet: Určete svůj rozpočet pro projekt a prodiskutujte totéž s každým interiérovým dekoratérem. 4. Porovnat: Porovnejte citace a služby nabízené každým interiérovým dekoratérem. 5. Vyberte: Vyberte si nejlepší interiérový dekoratér, který vyhovuje vašemu stylu, potřebám a rozpočtu.', 'claims': {'To find the best interior decorators and price, follow these steps.': {'text': 'Chcete-li najít nejlepší interiérové dekoratéry a nejlepší cenu, můžete sledovat tyto kroky:', 'start': 0, 'end': 92}, 'Research online to find interior decorators in your area.': {'text': '1. Výzkum: Výzkum on-line najít interiérové dekoratéry ve vaší oblasti.', 'start': 93, 'end': 164}, 'Review their portfolios, customer reviews, and ratings.': {'text': 'Podívejte se na jejich portfolia, hodnocení zákazníků a hodnocení.', 'start': 165, 'end': 231}, 'Shortlist several decorators based on their work, experience, and reviews.': {'text': '2. Shortlist: Shortlist několik dekoratéři založené na jejich práci, zkušenosti, a recenze.', 'start': 232, 'end': 323}, 'Determine your budget for the project.': {'text': '3. Rozpočet: Určete svůj rozpočet pro projekt', 'start': 324, 'end': 369}, 'Discuss your budget with each interior decorator.': {'text': 'a prodiskutujte totéž s každým interiérovým dekoratérem.', 'start': 370, 'end': 426}, 'Compare quotes and services offered by each interior decorator.': {'text': '4. Porovnat: Porovnejte citace a služby nabízené každým interiérovým dekoratérem.', 'start': 427, 'end': 508}, 'Select the best interior decorator that suits your style, needs, and budget.': {'text': '5. Vyberte: Vyberte si nejlepší interiérový dekoratér, který vyhovuje vašemu stylu, potřebám a rozpočtu.', 'start': 509, 'end': 613}}}\n"
     ]
    }
   ],
   "source": [
    "def translate(input):\n",
    "    inputs = tokenizer(input, return_tensors=\"pt\", padding=True, truncation=True)\n",
    "    translated = model.generate(**inputs)\n",
    "    translated_text = tokenizer.decode(translated[0], skip_special_tokens=True)\n",
    "    return translated_text\n",
    "\n",
    "for item in data:\n",
    "    try:\n",
    "        for claim in item['claims']:\n",
    "            to_translate = re.search(r'\\((.*?)\\)', claim['checkworthy_reason']).group(1) if re.search(r'\\((.*?)\\)', claim['checkworthy_reason']) else claim['checkworthy_reason']\n",
    "            claim['checkworthy'] = claim['checkworthy_reason'].startswith('Yes')\n",
    "            translated_text = translate(to_translate)\n",
    "            #translated_text = to_translate\n",
    "            claim['checkworthy_reason'] = translated_text\n",
    "    except:\n",
    "        print(item)\n",
    "        # Filter out items that caused errors\n",
    "        data = [item for item in data if isinstance(item, dict) and 'claims' in item and isinstance(item['claims'], list)]"
   ]
  },
  {
   "cell_type": "code",
   "execution_count": 33,
   "metadata": {},
   "outputs": [],
   "source": [
    "output_filename = os.path.join('./filtered', filename)\n",
    "with open(output_filename, 'w', encoding='utf-8') as f:\n",
    "    json.dump(data, f, ensure_ascii=False, indent=2)"
   ]
  }
 ],
 "metadata": {
  "kernelspec": {
   "display_name": ".venv",
   "language": "python",
   "name": "python3"
  },
  "language_info": {
   "codemirror_mode": {
    "name": "ipython",
    "version": 3
   },
   "file_extension": ".py",
   "mimetype": "text/x-python",
   "name": "python",
   "nbconvert_exporter": "python",
   "pygments_lexer": "ipython3",
   "version": "3.13.3"
  }
 },
 "nbformat": 4,
 "nbformat_minor": 2
}
