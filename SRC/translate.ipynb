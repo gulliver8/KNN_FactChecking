{
 "cells": [
  {
   "cell_type": "code",
   "execution_count": 1,
   "metadata": {},
   "outputs": [
    {
     "name": "stdout",
     "output_type": "stream",
     "text": [
      "Requirement already satisfied: transformers in /home/xmakai00/KNN/KNN_FactChecking/.venv/lib/python3.12/site-packages (4.51.3)\n",
      "Requirement already satisfied: filelock in /home/xmakai00/KNN/KNN_FactChecking/.venv/lib/python3.12/site-packages (from transformers) (3.18.0)\n",
      "Requirement already satisfied: huggingface-hub<1.0,>=0.30.0 in /home/xmakai00/KNN/KNN_FactChecking/.venv/lib/python3.12/site-packages (from transformers) (0.31.2)\n",
      "Requirement already satisfied: numpy>=1.17 in /home/xmakai00/KNN/KNN_FactChecking/.venv/lib/python3.12/site-packages (from transformers) (2.2.5)\n",
      "Requirement already satisfied: packaging>=20.0 in /home/xmakai00/KNN/KNN_FactChecking/.venv/lib/python3.12/site-packages (from transformers) (25.0)\n",
      "Requirement already satisfied: pyyaml>=5.1 in /home/xmakai00/KNN/KNN_FactChecking/.venv/lib/python3.12/site-packages (from transformers) (6.0.2)\n",
      "Requirement already satisfied: regex!=2019.12.17 in /home/xmakai00/KNN/KNN_FactChecking/.venv/lib/python3.12/site-packages (from transformers) (2024.11.6)\n",
      "Requirement already satisfied: requests in /home/xmakai00/KNN/KNN_FactChecking/.venv/lib/python3.12/site-packages (from transformers) (2.32.3)\n",
      "Requirement already satisfied: tokenizers<0.22,>=0.21 in /home/xmakai00/KNN/KNN_FactChecking/.venv/lib/python3.12/site-packages (from transformers) (0.21.1)\n",
      "Requirement already satisfied: safetensors>=0.4.3 in /home/xmakai00/KNN/KNN_FactChecking/.venv/lib/python3.12/site-packages (from transformers) (0.5.3)\n",
      "Requirement already satisfied: tqdm>=4.27 in /home/xmakai00/KNN/KNN_FactChecking/.venv/lib/python3.12/site-packages (from transformers) (4.67.1)\n",
      "Requirement already satisfied: fsspec>=2023.5.0 in /home/xmakai00/KNN/KNN_FactChecking/.venv/lib/python3.12/site-packages (from huggingface-hub<1.0,>=0.30.0->transformers) (2025.3.2)\n",
      "Requirement already satisfied: typing-extensions>=3.7.4.3 in /home/xmakai00/KNN/KNN_FactChecking/.venv/lib/python3.12/site-packages (from huggingface-hub<1.0,>=0.30.0->transformers) (4.13.2)\n",
      "Requirement already satisfied: charset-normalizer<4,>=2 in /home/xmakai00/KNN/KNN_FactChecking/.venv/lib/python3.12/site-packages (from requests->transformers) (3.4.2)\n",
      "Requirement already satisfied: idna<4,>=2.5 in /home/xmakai00/KNN/KNN_FactChecking/.venv/lib/python3.12/site-packages (from requests->transformers) (3.10)\n",
      "Requirement already satisfied: urllib3<3,>=1.21.1 in /home/xmakai00/KNN/KNN_FactChecking/.venv/lib/python3.12/site-packages (from requests->transformers) (2.4.0)\n",
      "Requirement already satisfied: certifi>=2017.4.17 in /home/xmakai00/KNN/KNN_FactChecking/.venv/lib/python3.12/site-packages (from requests->transformers) (2025.4.26)\n",
      "Requirement already satisfied: sentencepiece in /home/xmakai00/KNN/KNN_FactChecking/.venv/lib/python3.12/site-packages (0.2.0)\n"
     ]
    },
    {
     "name": "stderr",
     "output_type": "stream",
     "text": [
      "/home/xmakai00/KNN/KNN_FactChecking/.venv/lib/python3.12/site-packages/tqdm/auto.py:21: TqdmWarning: IProgress not found. Please update jupyter and ipywidgets. See https://ipywidgets.readthedocs.io/en/stable/user_install.html\n",
      "  from .autonotebook import tqdm as notebook_tqdm\n",
      "None of PyTorch, TensorFlow >= 2.0, or Flax have been found. Models won't be available and only tokenizers, configuration and file/data utilities can be used.\n"
     ]
    }
   ],
   "source": [
    "!pip install transformers\n",
    "!pip install sentencepiece\n",
    "import requests\n",
    "import json\n",
    "import sentencepiece as SentencePiece\n",
    "from transformers import MarianMTModel, MarianTokenizer"
   ]
  },
  {
   "cell_type": "markdown",
   "metadata": {},
   "source": [
    "# Download"
   ]
  },
  {
   "cell_type": "code",
   "execution_count": 2,
   "metadata": {},
   "outputs": [
    {
     "name": "stdout",
     "output_type": "stream",
     "text": [
      "File downloaded and saved successfully.\n"
     ]
    }
   ],
   "source": [
    "url = 'https://raw.githubusercontent.com/yuxiaw/Factcheck-GPT/refs/heads/main/factcheck-GPT-benchmark.jsonl'\n",
    "response = requests.get(url)\n",
    "\n",
    "if response.status_code == 200:\n",
    "    with open('../data/atomic_claims_comments_claude.json', 'w') as file:\n",
    "        file.write(response.text)\n",
    "        print('File downloaded and saved successfully.')\n",
    "else:\n",
    "    print('Failed to download the file.')"
   ]
  },
  {
   "cell_type": "markdown",
   "metadata": {},
   "source": [
    "# load from file"
   ]
  },
  {
   "cell_type": "code",
   "execution_count": 7,
   "metadata": {},
   "outputs": [
    {
     "data": {
      "text/plain": [
       "'... pokud chci mit data v bezpeci, tak jedine je mit sifrovana a na Linuxu.'"
      ]
     },
     "execution_count": 7,
     "metadata": {},
     "output_type": "execute_result"
    }
   ],
   "source": [
    "with open('atomic_claims_comments_claude.json', 'r') as file:\n",
    "    data = json.load(file)\n",
    "\n",
    "data[0]['source']"
   ]
  },
  {
   "cell_type": "markdown",
   "metadata": {},
   "source": [
    "# Translate"
   ]
  },
  {
   "cell_type": "code",
   "execution_count": null,
   "metadata": {},
   "outputs": [],
   "source": [
    "# Load the model and tokenizer for English to Czech\n",
    "model_name = \"Helsinki-NLP/opus-mt-en-cs\"\n",
    "tokenizer = MarianTokenizer.from_pretrained(model_name)\n",
    "model = MarianMTModel.from_pretrained(model_name)"
   ]
  },
  {
   "cell_type": "code",
   "execution_count": null,
   "metadata": {},
   "outputs": [
    {
     "data": {
      "text/plain": [
       "{'prompt': 'Who was the oldest justice on the US supreme court in 1980?',\n",
       " 'response': 'V roce 1980, nejstarším soudcem Nejvyššího soudu Spojených států byl soudce William O. Douglas. Narodil se 16. října 1898 a sloužil u Nejvyššího soudu od roku 1939 až do jeho odchodu do důchodu v roce 1975. Proto, v roce 1980, soudce Douglas byl stále naživu a byl by nejstarší sloužící spravedlnosti na soudu v té době.',\n",
       " 'claims': [['V roce 1980 byl nejstarším soudcem Nejvyššího soudu Spojených států soudce William O. Douglas.'],\n",
       "  ['Soudce William O. Douglas se narodil 16. října 1898.',\n",
       "   'Soudce William O. Douglas sloužil u Nejvyššího soudu Spojených států od roku 1939 do jeho odchodu do důchodu v roce 1975.'],\n",
       "  ['V roce 1980 byl soudce William O. Douglas stále naživu.',\n",
       "   'Soudce William O. Douglas byl nejstarším soudcem Nejvyššího soudu Spojených států v roce 1980.']],\n",
       " 'claims_factuality_label': [[False], [True, True], [False, False]]}"
      ]
     },
     "execution_count": 9,
     "metadata": {},
     "output_type": "execute_result"
    }
   ],
   "source": [
    "translated_data = []\n",
    "\n",
    "for item in data:\n",
    "    new = {\n",
    "        \"source\": item[\"source\"],\n",
    "        \"response\": \"\",\n",
    "        \"claims\": [],\n",
    "        \"claims_factuality_label\": [],\n",
    "    }\n",
    "    inputs = tokenizer(item['response'], return_tensors=\"pt\", padding=True, truncation=True)\n",
    "    translated = model.generate(**inputs)\n",
    "    translated_text = tokenizer.decode(translated[0], skip_special_tokens=True)\n",
    "    new[\"response\"] = translated_text\n",
    "\n",
    "    for i in range(1, 10):\n",
    "        translated_claims = []\n",
    "        try:\n",
    "            for claim in item['sentences'][f'sentence{i}']['claims']:\n",
    "                inputs = tokenizer(claim, return_tensors=\"pt\", padding=True, truncation=True)\n",
    "                translated = model.generate(**inputs)\n",
    "                translated_text = tokenizer.decode(translated[0], skip_special_tokens=True)\n",
    "                translated_claims.append(translated_text)\n",
    "            new['claims'].append(translated_claims)\n",
    "            new['claims_factuality_label'].append(item['sentences'][f'sentence{i}']['claims_factuality_label'])\n",
    "        except KeyError:\n",
    "            break # no more sentences\n",
    "    translated_data.append(new)\n",
    "\n",
    "translated_data[0]"
   ]
  },
  {
   "cell_type": "code",
   "execution_count": null,
   "metadata": {},
   "outputs": [],
   "source": [
    "with open('translated.json', 'w') as file:\n",
    "    json.dump(translated_data, file, indent=4)"
   ]
  },
  {
   "cell_type": "markdown",
   "metadata": {},
   "source": [
    "# Validate"
   ]
  },
  {
   "cell_type": "code",
   "execution_count": null,
   "metadata": {},
   "outputs": [
    {
     "data": {
      "text/plain": [
       "{'prompt': 'Who was the oldest justice on the US supreme court in 1980?',\n",
       " 'response': 'V roce 1980, nejstarším soudcem Nejvyššího soudu Spojených států byl soudce William O. Douglas. Narodil se 16. října 1898 a sloužil u Nejvyššího soudu od roku 1939 až do jeho odchodu do důchodu v roce 1975. Proto, v roce 1980, soudce Douglas byl stále naživu a byl by nejstarší sloužící spravedlnosti na soudu v té době.',\n",
       " 'claims': ['V roce 1980 byl nejstarším soudcem Nejvyššího soudu Spojených států soudce William O. Douglas.'],\n",
       " 'claims_factuality_label': [False]}"
      ]
     },
     "execution_count": 36,
     "metadata": {},
     "output_type": "execute_result"
    }
   ],
   "source": [
    "with open('translated.json', 'r') as file:\n",
    "    translated_data = json.load(file)\n",
    "\n",
    "translated_data[0]"
   ]
  }
 ],
 "metadata": {
  "kernelspec": {
   "display_name": ".venv",
   "language": "python",
   "name": "python3"
  },
  "language_info": {
   "codemirror_mode": {
    "name": "ipython",
    "version": 3
   },
   "file_extension": ".py",
   "mimetype": "text/x-python",
   "name": "python",
   "nbconvert_exporter": "python",
   "pygments_lexer": "ipython3",
   "version": "3.12.3"
  }
 },
 "nbformat": 4,
 "nbformat_minor": 2
}
