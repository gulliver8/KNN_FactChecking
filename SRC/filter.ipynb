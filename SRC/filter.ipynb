{
 "cells": [
  {
   "cell_type": "code",
   "execution_count": 54,
   "metadata": {},
   "outputs": [],
   "source": [
    "import requests\n",
    "import json\n",
    "import sentencepiece as SentencePiece\n",
    "from transformers import MarianMTModel, MarianTokenizer\n",
    "import re\n",
    "import os"
   ]
  },
  {
   "cell_type": "code",
   "execution_count": 55,
   "metadata": {},
   "outputs": [
    {
     "data": {
      "text/plain": [
       "{'source': '... pokud chci mit data v bezpeci, tak jedine je mit sifrovana a na Linuxu.',\n",
       " 'claims': [{'id': 0,\n",
       "   'claim': 'Chcete-li mít data v bezpečí, musí být zašifrovaná.',\n",
       "   'checkworthy': True,\n",
       "   'checkworthy_reason': 'Yes (Tento výrok obsahuje faktickou informaci o tom, že šifrování je nástrojem pro zabezpečení dat, což lze ověřit na základě technologických principů a praxe.)',\n",
       "   'origin_text': '... pokud chci mit data v bezpeci, tak jedine je mit sifrovana',\n",
       "   'start': 0,\n",
       "   'end': 62},\n",
       "  {'id': 1,\n",
       "   'claim': 'Linux je způsob, jak udržet data v bezpečí.',\n",
       "   'checkworthy': True,\n",
       "   'checkworthy_reason': 'No (I když Linux může být součástí strategií pro zabezpečení dat, tento výrok je příliš obecný a neodkazuje na specifické faktické prvky činící Linux jedinečně bezpečnou.)',\n",
       "   'origin_text': 'a na Linuxu.',\n",
       "   'start': 63,\n",
       "   'end': 75}]}"
      ]
     },
     "execution_count": 55,
     "metadata": {},
     "output_type": "execute_result"
    }
   ],
   "source": [
    "filename, translate = ['results_comments_phi4:14b-q8_0_czprompt.json', True]\n",
    "#filename, translate = ['results_comments_phi4.json', True]\n",
    "#filename, translate = ['results_comments_qwen2.5_32b_inst_q4.json', True]\n",
    "#filename, translate = ['results_FCGPT_phi4:14b-q8_0_czprompt.json', False]\n",
    "#filename, translate = ['results_FCGPT_phi4.json', True]\n",
    "\n",
    "data = []\n",
    "with open(filename) as f:\n",
    "    data = json.load(f)\n",
    "data[0]"
   ]
  },
  {
   "cell_type": "code",
   "execution_count": 56,
   "metadata": {},
   "outputs": [],
   "source": [
    "# Load the model and tokenizer for English to Czech\n",
    "model_name = \"Helsinki-NLP/opus-mt-en-cs\"\n",
    "tokenizer = MarianTokenizer.from_pretrained(model_name)\n",
    "model = MarianMTModel.from_pretrained(model_name)"
   ]
  },
  {
   "cell_type": "code",
   "execution_count": 57,
   "metadata": {},
   "outputs": [
    {
     "name": "stdout",
     "output_type": "stream",
     "text": [
      "{'source': 'A peníze na ty dotace si tisknou? Dotace na elektromobilitu fungují jen dokud je elektromobilita minoritní záležitostí.', 'claims': {'Peníze na dotace se tisknou.': {'text': 'A peníze na ty dotace si tisknou?', 'start': 0, 'end': 33}, 'Dotace na elektromobilitu fungují, dokud je elektromobilita minoritní záležitostí.': {'text': 'Dotace na elektromobilitu fungují jen dokud je elektromobilita minoritní záležitostí.', 'start': 34, 'end': 119}}}\n",
      "{'source': 'Ano, to samozřejmě lze. Ale pokud by na silnicích zůstala převážně osobní doprava, tak údržba bude stát 5-10% toho, co dnes.', 'claims': {'Údržba by stála 5-10% toho, co dnes, pokud na silnicích zůstala převážně osobní doprava.': {'text': 'Ano, to samozřejmě lze. Ale pokud by na silnicích zůstala převážně osobní doprava, tak údržba bude stát 5-10% toho, co dnes.', 'start': 0, 'end': 124}}}\n",
      "{'source': 'Já si marně vzpomínám, kdy politici místo restrikcí něco povolili. Snad prodloužení intervalu technické u motorek. Jinak se pořád zpřísňuje ve všech oblastech života. A je úplně jedno která strana je u vesla', 'claims': {'Politici místo restrikcí povolili něco jen málo.': {'text': 'Já si marně vzpomínám, kdy politici místo restrikcí něco povolili.', 'start': 0, 'end': 66}, 'Bylo provedeno snad prodloužení intervalu technického kontroly motorek.': {'text': 'Snad prodloužení intervalu technické u motorek.', 'start': 67, 'end': 114}, 'Omezení se zpřísňují v různých oblastech života.': {'text': 'Jinak se pořád zpřísňuje ve všech oblastech života.', 'start': 115, 'end': 166}, 'Strana u vesla nemá vliv na tyto změny.': {'text': 'A je úplně jedno která strana je u vesla', 'start': 167, 'end': 207}}}\n",
      "{'source': 'To, proč někdo vlastní auto, je čiště jeho věc a to, že bydlí (v širším) centru města, absolutně neznamená, že ho nepotřebuje... Ale chápu, že hipsteři a podobní aktivisti, co jim stačí batůžek nebo makaj někde v Partnerství, tak ti mají času dost a můžou ho ztrácet třeba i \"ekologickou\" dopravou. Akorát pak jsou neskutečně otravní, když potřebují někam za město a zrovna to neleží na koridoru...', 'claims': {'Někteří lidé vlastní auto kvůli čištění.': {'text': 'To, proč někdo vlastní auto, je čiště jeho věc a', 'start': 0, 'end': 48}, 'Bydlení (v širším) centru města neznamená, že někdo nepotřebuje auto.': {'text': 'to, že bydlí (v širším) centru města, absolutně neznamená, že ho nepotřebuje...', 'start': 49, 'end': 128}, 'Někteří lidé jsou otravní, když potřebují cestovat za město a neleží to na koridoru.': {'text': 'Ale chápu, že hipsteři a podobní aktivisti, co jim stačí batůžek nebo makaj někde v Partnerství, tak ti mají času dost a můžou ho ztrácet třeba i \"ekologickou\" dopravou. Akorát pak jsou neskutečně otravní, když potřebují někam za město a zrovna to neleží na koridoru.', 'start': 129, 'end': 396}}}\n"
     ]
    }
   ],
   "source": [
    "def translate_text(input):\n",
    "    inputs = tokenizer(input, return_tensors=\"pt\", padding=True, truncation=True)\n",
    "    translated = model.generate(**inputs)\n",
    "    translated_text = tokenizer.decode(translated[0], skip_special_tokens=True)\n",
    "    return translated_text\n",
    "\n",
    "for item in data:\n",
    "    try:\n",
    "        for claim in item['claims']:\n",
    "            # Extract text between first '(' and last ')'\n",
    "            if '(' in claim['checkworthy_reason'] and ')' in claim['checkworthy_reason']:\n",
    "                start_idx = claim['checkworthy_reason'].find('(') + 1\n",
    "                end_idx = claim['checkworthy_reason'].rfind(')')\n",
    "                to_translate = claim['checkworthy_reason'][start_idx:end_idx]\n",
    "            else:\n",
    "                to_translate = claim['checkworthy_reason']\n",
    "            claim['checkworthy'] = claim['checkworthy_reason'].startswith('Yes')\n",
    "            translated_text = translate_text(to_translate) if translate else to_translate\n",
    "            claim['checkworthy_reason'] = translated_text\n",
    "    except:\n",
    "        print(item)\n",
    "        # Filter out items that caused errors\n",
    "        data = [item for item in data if isinstance(item, dict) and 'claims' in item and isinstance(item['claims'], list)]"
   ]
  },
  {
   "cell_type": "code",
   "execution_count": 58,
   "metadata": {},
   "outputs": [],
   "source": [
    "output_filename = os.path.join('./filtered', filename)\n",
    "with open(output_filename, 'w', encoding='utf-8') as f:\n",
    "    json.dump(data, f, ensure_ascii=False, indent=2)"
   ]
  }
 ],
 "metadata": {
  "kernelspec": {
   "display_name": ".venv",
   "language": "python",
   "name": "python3"
  },
  "language_info": {
   "codemirror_mode": {
    "name": "ipython",
    "version": 3
   },
   "file_extension": ".py",
   "mimetype": "text/x-python",
   "name": "python",
   "nbconvert_exporter": "python",
   "pygments_lexer": "ipython3",
   "version": "3.13.3"
  }
 },
 "nbformat": 4,
 "nbformat_minor": 2
}
