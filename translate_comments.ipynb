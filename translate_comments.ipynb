{
 "cells": [
  {
   "cell_type": "markdown",
   "id": "2cab5366",
   "metadata": {},
   "source": [
    "# Evaluation\n",
    "\n",
    "- **Comments**: 60  \n",
    "- **Retrieved Claims**: 321  \n",
    "- **Valid Claims**: 310/321  \n",
    "- **Czech Claims from Valid**: 79/310  \n",
    "- **Checkworthy**: 208/310  "
   ]
  },
  {
   "cell_type": "code",
   "execution_count": 33,
   "id": "99c089b0",
   "metadata": {},
   "outputs": [],
   "source": [
    "import json\n",
    "import pandas as pd\n",
    "import numpy as np"
   ]
  },
  {
   "cell_type": "code",
   "execution_count": 34,
   "id": "df98e9d0",
   "metadata": {},
   "outputs": [
    {
     "name": "stderr",
     "output_type": "stream",
     "text": [
      "C:\\Users\\User\\AppData\\Local\\Packages\\PythonSoftwareFoundation.Python.3.11_qbz5n2kfra8p0\\LocalCache\\local-packages\\Python311\\site-packages\\transformers\\models\\marian\\tokenization_marian.py:175: UserWarning: Recommended: pip install sacremoses.\n",
      "  warnings.warn(\"Recommended: pip install sacremoses.\")\n"
     ]
    }
   ],
   "source": [
    "import sentencepiece as SentencePiece\n",
    "from transformers import MarianMTModel, MarianTokenizer\n",
    "# Load the model and tokenizer for English to Czech\n",
    "model_name = \"Helsinki-NLP/opus-mt-en-cs\"\n",
    "tokenizer = MarianTokenizer.from_pretrained(model_name)\n",
    "model = MarianMTModel.from_pretrained(model_name)"
   ]
  },
  {
   "cell_type": "code",
   "execution_count": 35,
   "id": "e548022c",
   "metadata": {},
   "outputs": [],
   "source": [
    "import fasttext\n",
    "from huggingface_hub import hf_hub_download\n",
    "\n",
    "model_path = hf_hub_download(repo_id=\"facebook/fasttext-language-identification\", filename=\"model.bin\")\n",
    "detection_model = fasttext.load_model(model_path)\n"
   ]
  },
  {
   "cell_type": "code",
   "execution_count": 36,
   "id": "020e8c5d",
   "metadata": {},
   "outputs": [
    {
     "data": {
      "text/plain": [
       "(('__label__eng_Latn',), array([0.61224753]))"
      ]
     },
     "execution_count": 36,
     "metadata": {},
     "output_type": "execute_result"
    }
   ],
   "source": [
    "detection_model.predict(\"Hello, world!\")"
   ]
  },
  {
   "cell_type": "code",
   "execution_count": 37,
   "id": "8514d2b9",
   "metadata": {},
   "outputs": [
    {
     "name": "stdout",
     "output_type": "stream",
     "text": [
      "<class 'pandas.core.frame.DataFrame'>\n",
      "Index: 310 entries, 0 to 320\n",
      "Data columns (total 7 columns):\n",
      " #   Column              Non-Null Count  Dtype  \n",
      "---  ------              --------------  -----  \n",
      " 0   claim               310 non-null    object \n",
      " 1   checkworthy         310 non-null    object \n",
      " 2   checkworthy_reason  310 non-null    object \n",
      " 3   origin_text         310 non-null    object \n",
      " 4   start               310 non-null    float64\n",
      " 5   end                 310 non-null    float64\n",
      " 6   source              310 non-null    object \n",
      "dtypes: float64(2), object(5)\n",
      "memory usage: 19.4+ KB\n",
      "None\n",
      "Number of claims in Czech: 79\n"
     ]
    }
   ],
   "source": [
    "#load data for evaluation (loki generated atomic claims)\n",
    "with open('data/atomic_claims_comments.json', 'r') as file:\n",
    "    claims = json.load(file)\n",
    "\n",
    "# Convert the JSON data to a DataFrame\n",
    "df = pd.DataFrame(claims)\n",
    "df = df.explode('claims') \n",
    "#normalize json data in claims but keep the source column\n",
    "new_df = pd.json_normalize(df['claims'])\n",
    "new_df['source'] = df['source'].values\n",
    "df = new_df\n",
    "\n",
    "#drop na rows and id column\n",
    "df.dropna(axis=0, inplace=True)\n",
    "df.drop(columns=['id'], inplace=True)\n",
    "print(df.info())\n",
    "\n",
    "#for every claim check if in english or not\n",
    "df['lang'] = df['claim'].apply(lambda x: detection_model.predict(x)[0][0])\n",
    "df['is_czech'] = df['lang'].apply(lambda x: 1 if (x == '__label__ces_Latn') or (x == '__label__slk_Latn')  else 0)\n",
    "print(f\"Number of claims in Czech: {df['is_czech'].sum()}\")\n",
    "    \n",
    "\n",
    "\n"
   ]
  },
  {
   "cell_type": "code",
   "execution_count": 38,
   "id": "d1c4acbe",
   "metadata": {},
   "outputs": [],
   "source": [
    "#translate function\n",
    "def translate(text):\n",
    "    inputs = tokenizer(text, return_tensors=\"pt\", padding=True, truncation=True)\n",
    "    translated = model.generate(**inputs)\n",
    "    translated_text = tokenizer.decode(translated[0], skip_special_tokens=True)\n",
    "    return translated_text\n",
    "\n",
    "df['original_claim'] = df['claim']\n",
    "#translate only if the claim is in english\n",
    "df['claim'] = df.apply(\n",
    "    lambda row: translate(row['claim']) if row['is_czech'] == 0 else row['claim'], axis=1\n",
    ")\n",
    "\n",
    "\n"
   ]
  },
  {
   "cell_type": "code",
   "execution_count": 39,
   "id": "23b0a4aa",
   "metadata": {},
   "outputs": [
    {
     "name": "stdout",
     "output_type": "stream",
     "text": [
      "Number of checkworthy claims: 208\n"
     ]
    }
   ],
   "source": [
    "#checkworthy claims in the dataset-where checkworthy reason starts with Yes\n",
    "df['checkworthy'] = df['checkworthy_reason'].apply(lambda x: 1 if x.startswith('Yes') else 0)\n",
    "print(f\"Number of checkworthy claims: {df['checkworthy'].sum()}\")\n",
    "\n",
    "#filter out only the rows that are checkworthy 1\n",
    "filtered_df = df.where(df['checkworthy'] == 1).dropna()\n",
    "\n",
    "#group by source \n",
    "#group by unique comment and comment_id\n",
    "#df.drop(columns=['checkworthy', 'lang', 'is_czech', 'original_claim'], inplace=True)\n",
    "df_grouped = filtered_df.groupby(['source']).agg({\n",
    "    'claim': lambda x: '; '.join(x.astype(str)),\n",
    "    'checkworthy_reason': lambda x: '; '.join(x.astype(str)),\n",
    "    'origin_text': lambda x: '; '.join(x.astype(str)),\n",
    "    'start': lambda x: '; '.join(x.astype(str)),  \n",
    "    'end': lambda x: '; '.join(x.astype(str))  \n",
    "}).reset_index()\n",
    "# Split the joined strings back into lists\n",
    "df_grouped['claim'] = df_grouped['claim'].apply(lambda x: x.split('; '))\n",
    "df_grouped['checkworthy_reason'] = df_grouped['checkworthy_reason'].apply(lambda x: x.split('; '))\n",
    "df_grouped['origin_text'] = df_grouped['origin_text'].apply(lambda x: x.split('; '))\n",
    "df_grouped['start'] = df_grouped['start'].apply(lambda x: x.split('; '))\n",
    "df_grouped['end'] = df_grouped['end'].apply(lambda x: x.split('; '))"
   ]
  },
  {
   "cell_type": "code",
   "execution_count": 40,
   "id": "0699ddac",
   "metadata": {},
   "outputs": [
    {
     "data": {
      "text/html": [
       "<div>\n",
       "<style scoped>\n",
       "    .dataframe tbody tr th:only-of-type {\n",
       "        vertical-align: middle;\n",
       "    }\n",
       "\n",
       "    .dataframe tbody tr th {\n",
       "        vertical-align: top;\n",
       "    }\n",
       "\n",
       "    .dataframe thead th {\n",
       "        text-align: right;\n",
       "    }\n",
       "</style>\n",
       "<table border=\"1\" class=\"dataframe\">\n",
       "  <thead>\n",
       "    <tr style=\"text-align: right;\">\n",
       "      <th></th>\n",
       "      <th>source</th>\n",
       "      <th>claim</th>\n",
       "      <th>checkworthy_reason</th>\n",
       "      <th>origin_text</th>\n",
       "      <th>start</th>\n",
       "      <th>end</th>\n",
       "    </tr>\n",
       "  </thead>\n",
       "  <tbody>\n",
       "    <tr>\n",
       "      <th>0</th>\n",
       "      <td>... pokud chci mit data v bezpeci, tak jedine ...</td>\n",
       "      <td>[Data lze udržet v bezpečí prostřednictvím šif...</td>\n",
       "      <td>[Yes (This is a factual statement about a capa...</td>\n",
       "      <td>[... pokud chci mit data v bezpeci, tak jedine...</td>\n",
       "      <td>[0.0, 63.0, 75.0]</td>\n",
       "      <td>[62.0, 75.0, 75.0]</td>\n",
       "    </tr>\n",
       "    <tr>\n",
       "      <th>1</th>\n",
       "      <td>A myslíte, že v Linuxu není jen na okrasu? Jak...</td>\n",
       "      <td>[Fyzický přístup k počítači umožňuje nastavení...</td>\n",
       "      <td>[Yes (This statement makes a verifiable techni...</td>\n",
       "      <td>[Jakmile máte fyzický přístup k počítači, tak ...</td>\n",
       "      <td>[43.0, 122.0, 123.0, 149.0]</td>\n",
       "      <td>[122.0, 122.0, 149.0, 149.0]</td>\n",
       "    </tr>\n",
       "    <tr>\n",
       "      <th>2</th>\n",
       "      <td>A peníze na ty dotace si tisknou? Dotace na el...</td>\n",
       "      <td>[Peníze na dotace se tisknou.]</td>\n",
       "      <td>[Yes (This statement makes a factual claim abo...</td>\n",
       "      <td>[A peníze na ty dotace si tisknou?]</td>\n",
       "      <td>[0.0]</td>\n",
       "      <td>[33.0]</td>\n",
       "    </tr>\n",
       "    <tr>\n",
       "      <th>3</th>\n",
       "      <td>A zapomněli jste na variantu, že je disk šifro...</td>\n",
       "      <td>[Jednoduché zotavení není možné s Bitlocker ši...</td>\n",
       "      <td>[Yes (This statement makes a technical claim a...</td>\n",
       "      <td>[To už takhle jednoduše nejde., Proto je ve vě...</td>\n",
       "      <td>[82.0, 112.0]</td>\n",
       "      <td>[111.0, 177.0]</td>\n",
       "    </tr>\n",
       "    <tr>\n",
       "      <th>4</th>\n",
       "      <td>Ale kecy, EURO 6 platí od 1.1.2015, to znamená...</td>\n",
       "      <td>[Emisní norma EURO 6 je platná od 1. ledna 201...</td>\n",
       "      <td>[Yes (This statement contains specific, verifi...</td>\n",
       "      <td>[Ale kecy, EURO 6 platí od 1.1.2015,, to zname...</td>\n",
       "      <td>[0.0, 36.0]</td>\n",
       "      <td>[35.0, 88.0]</td>\n",
       "    </tr>\n",
       "  </tbody>\n",
       "</table>\n",
       "</div>"
      ],
      "text/plain": [
       "                                              source  \\\n",
       "0  ... pokud chci mit data v bezpeci, tak jedine ...   \n",
       "1  A myslíte, že v Linuxu není jen na okrasu? Jak...   \n",
       "2  A peníze na ty dotace si tisknou? Dotace na el...   \n",
       "3  A zapomněli jste na variantu, že je disk šifro...   \n",
       "4  Ale kecy, EURO 6 platí od 1.1.2015, to znamená...   \n",
       "\n",
       "                                               claim  \\\n",
       "0  [Data lze udržet v bezpečí prostřednictvím šif...   \n",
       "1  [Fyzický přístup k počítači umožňuje nastavení...   \n",
       "2                     [Peníze na dotace se tisknou.]   \n",
       "3  [Jednoduché zotavení není možné s Bitlocker ši...   \n",
       "4  [Emisní norma EURO 6 je platná od 1. ledna 201...   \n",
       "\n",
       "                                  checkworthy_reason  \\\n",
       "0  [Yes (This is a factual statement about a capa...   \n",
       "1  [Yes (This statement makes a verifiable techni...   \n",
       "2  [Yes (This statement makes a factual claim abo...   \n",
       "3  [Yes (This statement makes a technical claim a...   \n",
       "4  [Yes (This statement contains specific, verifi...   \n",
       "\n",
       "                                         origin_text  \\\n",
       "0  [... pokud chci mit data v bezpeci, tak jedine...   \n",
       "1  [Jakmile máte fyzický přístup k počítači, tak ...   \n",
       "2                [A peníze na ty dotace si tisknou?]   \n",
       "3  [To už takhle jednoduše nejde., Proto je ve vě...   \n",
       "4  [Ale kecy, EURO 6 platí od 1.1.2015,, to zname...   \n",
       "\n",
       "                         start                           end  \n",
       "0            [0.0, 63.0, 75.0]            [62.0, 75.0, 75.0]  \n",
       "1  [43.0, 122.0, 123.0, 149.0]  [122.0, 122.0, 149.0, 149.0]  \n",
       "2                        [0.0]                        [33.0]  \n",
       "3                [82.0, 112.0]                [111.0, 177.0]  \n",
       "4                  [0.0, 36.0]                  [35.0, 88.0]  "
      ]
     },
     "execution_count": 40,
     "metadata": {},
     "output_type": "execute_result"
    }
   ],
   "source": [
    "\n",
    "with open('data/atomic_claims_comments_translated.json', 'w') as file:\n",
    "    json.dump(df_grouped.to_dict(orient='records'), file, ensure_ascii=True, indent=4)\n",
    "df_grouped.head()"
   ]
  }
 ],
 "metadata": {
  "kernelspec": {
   "display_name": "Python 3",
   "language": "python",
   "name": "python3"
  },
  "language_info": {
   "codemirror_mode": {
    "name": "ipython",
    "version": 3
   },
   "file_extension": ".py",
   "mimetype": "text/x-python",
   "name": "python",
   "nbconvert_exporter": "python",
   "pygments_lexer": "ipython3",
   "version": "3.11.9"
  }
 },
 "nbformat": 4,
 "nbformat_minor": 5
}
